{
 "cells": [
  {
   "cell_type": "code",
   "execution_count": 143,
   "metadata": {
    "id": "iBNOO-iKwW5q"
   },
   "outputs": [],
   "source": [
    "from qiskit.circuit.library import IGate, XGate, YGate, RZGate, RYGate, RXGate\n",
    "from qiskit import QuantumCircuit, execute\n",
    "from numpy import pi, floor\n",
    "from random import choice\n",
    "from quantuminspire.qiskit import QI\n",
    "from qiskit.visualization import plot_histogram\n",
    "\n",
    "QI.set_authentication()"
   ]
  },
  {
   "cell_type": "code",
   "execution_count": 144,
   "metadata": {
    "id": "VDFZKLtuwKKh"
   },
   "outputs": [],
   "source": [
    "def s1(starmon):\n",
    "  starmon.cnot(0,2)\n",
    "  starmon.cnot(1,2)\n",
    "    \n",
    "def s2(starmon):\n",
    "    starmon.cnot(1,2)\n",
    "    starmon.cnot(3,2)\n",
    "    "
   ]
  },
  {
   "cell_type": "code",
   "execution_count": 145,
   "metadata": {
    "colab": {
     "base_uri": "https://localhost:8080/",
     "height": 35
    },
    "id": "XpuaY1BnyAVt",
    "outputId": "12729edc-8663-4e8a-fe62-32e641b742f3"
   },
   "outputs": [],
   "source": [
    "#create a random set of native gates\n",
    "gateSet = [IGate(), XGate(), YGate(), RZGate(pi/4), RYGate(pi/4), RXGate(pi/4)]\n",
    "gateDepth = 2\n",
    "qubits = 3\n",
    "gateList = []\n",
    "for i in range((int)(gateDepth/2)):\n",
    "    gateList.append([])\n",
    "    for j in range(qubits):\n",
    "        gateList[i].append(choice(gateSet))\n",
    "        \n",
    "#0 is encoded in the bit-flip code (|000> - do nothing)\n",
    "starmon = QuantumCircuit(5,5)\n",
    "\n",
    "#apply the random gates\n",
    "for i in range((int)(gateDepth/2)):\n",
    "    for j in range(qubits):\n",
    "        r = j\n",
    "        if j >= 2:\n",
    "            r = j+1\n",
    "        starmon.append(gateList[i][j],[r])\n",
    "        \n",
    "#apply the inverse of random gates\n",
    "for i in range((int)(gateDepth/2)-1,-1,-1):\n",
    "    for j in range(qubits):\n",
    "        r=j\n",
    "        if j >= 2:\n",
    "            r= j+1\n",
    "        starmon.append(gateList[i][j].inverse(), [r])\n",
    "        \n",
    "s1(starmon)\n",
    "starmon.swap(2,4)\n",
    "s2(starmon)\n",
    "\n",
    "starmon.measure_all()"
   ]
  },
  {
   "cell_type": "code",
   "execution_count": 146,
   "metadata": {},
   "outputs": [
    {
     "data": {
      "text/html": [
       "<pre style=\"word-wrap: normal;white-space: pre;background: #fff0;line-height: 1.1;font-family: &quot;Courier New&quot;,Courier,monospace\">           ┌───┐      ┌───┐                            ░ ┌─┐            \n",
       "   q_0: ───┤ X ├──────┤ X ├──────■─────────────────────░─┤M├────────────\n",
       "        ┌──┴───┴──┐┌──┴───┴───┐  │                     ░ └╥┘┌─┐         \n",
       "   q_1: ┤ Ry(π/4) ├┤ Ry(-π/4) ├──┼────■───────■────────░──╫─┤M├─────────\n",
       "        └─────────┘└──────────┘┌─┴─┐┌─┴─┐   ┌─┴─┐┌───┐ ░  ║ └╥┘┌─┐      \n",
       "   q_2: ───────────────────────┤ X ├┤ X ├─X─┤ X ├┤ X ├─░──╫──╫─┤M├──────\n",
       "        ┌─────────┐┌──────────┐└───┘└───┘ │ └───┘└─┬─┘ ░  ║  ║ └╥┘┌─┐   \n",
       "   q_3: ┤ Rx(π/4) ├┤ Rx(-π/4) ├───────────┼────────■───░──╫──╫──╫─┤M├───\n",
       "        └─────────┘└──────────┘           │            ░  ║  ║  ║ └╥┘┌─┐\n",
       "   q_4: ──────────────────────────────────X────────────░──╫──╫──╫──╫─┤M├\n",
       "                                                       ░  ║  ║  ║  ║ └╥┘\n",
       "   c: 5/══════════════════════════════════════════════════╬══╬══╬══╬══╬═\n",
       "                                                          ║  ║  ║  ║  ║ \n",
       "meas: 5/══════════════════════════════════════════════════╩══╩══╩══╩══╩═\n",
       "                                                          0  1  2  3  4 </pre>"
      ],
      "text/plain": [
       "           ┌───┐      ┌───┐                            ░ ┌─┐            \n",
       "   q_0: ───┤ X ├──────┤ X ├──────■─────────────────────░─┤M├────────────\n",
       "        ┌──┴───┴──┐┌──┴───┴───┐  │                     ░ └╥┘┌─┐         \n",
       "   q_1: ┤ Ry(π/4) ├┤ Ry(-π/4) ├──┼────■───────■────────░──╫─┤M├─────────\n",
       "        └─────────┘└──────────┘┌─┴─┐┌─┴─┐   ┌─┴─┐┌───┐ ░  ║ └╥┘┌─┐      \n",
       "   q_2: ───────────────────────┤ X ├┤ X ├─X─┤ X ├┤ X ├─░──╫──╫─┤M├──────\n",
       "        ┌─────────┐┌──────────┐└───┘└───┘ │ └───┘└─┬─┘ ░  ║  ║ └╥┘┌─┐   \n",
       "   q_3: ┤ Rx(π/4) ├┤ Rx(-π/4) ├───────────┼────────■───░──╫──╫──╫─┤M├───\n",
       "        └─────────┘└──────────┘           │            ░  ║  ║  ║ └╥┘┌─┐\n",
       "   q_4: ──────────────────────────────────X────────────░──╫──╫──╫──╫─┤M├\n",
       "                                                       ░  ║  ║  ║  ║ └╥┘\n",
       "   c: 5/══════════════════════════════════════════════════╬══╬══╬══╬══╬═\n",
       "                                                          ║  ║  ║  ║  ║ \n",
       "meas: 5/══════════════════════════════════════════════════╩══╩══╩══╩══╩═\n",
       "                                                          0  1  2  3  4 "
      ]
     },
     "execution_count": 146,
     "metadata": {},
     "output_type": "execute_result"
    }
   ],
   "source": [
    "starmon.draw()"
   ]
  },
  {
   "cell_type": "code",
   "execution_count": 147,
   "metadata": {},
   "outputs": [],
   "source": [
    "qi_backend = QI.get_backend('Starmon-5')\n",
    "qi_job = execute(starmon, backend = qi_backend, shots=1024)\n",
    "qi_result = qi_job.result()\n",
    "histogram = qi_result.get_counts(starmon)"
   ]
  },
  {
   "cell_type": "code",
   "execution_count": 148,
   "metadata": {},
   "outputs": [],
   "source": [
    "def error_measured(regex):\n",
    "    return (regex[0] == '1' or regex[1] == '1' or regex[3]=='1')\n",
    "\n",
    "def error_detected(regex):\n",
    "    return (regex[2] == '1' or regex[4] == '1')"
   ]
  },
  {
   "cell_type": "code",
   "execution_count": 149,
   "metadata": {},
   "outputs": [],
   "source": [
    "error_count = 0\n",
    "error_flagged = 0\n",
    "successful_detection = 0\n",
    "for i in range(2**5):\n",
    "    regex = bin(i)[2::].zfill(5)\n",
    "    if regex in histogram:\n",
    "        if error_measured(regex):\n",
    "            error_count = error_count + histogram[regex]\n",
    "        if error_detected(regex):\n",
    "            error_flagged = error_flagged+histogram[regex]\n",
    "        if error_measured(regex) and error_detected(regex):\n",
    "            successful_detection = successful_detection + histogram[regex]\n",
    "        if not error_measured(regex) and not error_detected(regex):\n",
    "            successful_detection = successful_detection + histogram[regex]"
   ]
  },
  {
   "cell_type": "code",
   "execution_count": null,
   "metadata": {},
   "outputs": [],
   "source": [
    "print(1-(error_count/1024), 1-(error_flagged/1024), successful_detection/1024)"
   ]
  },
  {
   "cell_type": "markdown",
   "metadata": {},
   "source": [
    "We noticed that the error doesn't scale with the depth. We checked the compiled version and discovered that the \"white noise\" gates were commuted through and cancelled by the transpiler. How to get around this?"
   ]
  },
  {
   "cell_type": "code",
   "execution_count": null,
   "metadata": {},
   "outputs": [],
   "source": []
  }
 ],
 "metadata": {
  "colab": {
   "name": "BitFlip.ipynb",
   "provenance": []
  },
  "kernelspec": {
   "display_name": "Python 3 (ipykernel)",
   "language": "python",
   "name": "python3"
  },
  "language_info": {
   "codemirror_mode": {
    "name": "ipython",
    "version": 3
   },
   "file_extension": ".py",
   "mimetype": "text/x-python",
   "name": "python",
   "nbconvert_exporter": "python",
   "pygments_lexer": "ipython3",
   "version": "3.10.1"
  }
 },
 "nbformat": 4,
 "nbformat_minor": 1
}
